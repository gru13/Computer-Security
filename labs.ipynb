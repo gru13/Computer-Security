{
 "cells": [
  {
   "cell_type": "markdown",
   "metadata": {},
   "source": [
    "# LAB 1: Ceaser Cipher\n"
   ]
  },
  {
   "cell_type": "markdown",
   "metadata": {},
   "source": [
    "### **Objective**  \n",
    "- To understand and implement the **Caesar Cipher**, one of the simplest and oldest encryption techniques.  \n",
    "- To learn how to **encrypt** and **decrypt** text using a shift-based substitution cipher.  \n",
    "- To demonstrate basic string manipulation and ASCII-based character shifting in Python.  \n",
    "\n",
    "### **Input**  \n",
    "- A plaintext message (e.g., `\"HELLO WORLD\"`)  \n",
    "- A shift key (e.g., `3`)  \n",
    "\n",
    "### **Output**  \n",
    "- Encrypted ciphertext (e.g., `\"KHOOR ZRUOG\"`)  \n",
    "- Decrypted plaintext (e.g., `\"HELLO WORLD\"`)  "
   ]
  },
  {
   "cell_type": "code",
   "execution_count": 1,
   "metadata": {},
   "outputs": [
    {
     "name": "stdout",
     "output_type": "stream",
     "text": [
      "Encrypted: KHOOR ZRUOG\n",
      "Decrypted: HELLO WORLD\n"
     ]
    }
   ],
   "source": [
    "def caesar_cipher(text, shift, encrypt=True):\n",
    "    result = \"\"\n",
    "    for char in text:\n",
    "        if char.isalpha():  # Check if the character is a letter\n",
    "            shift_amount = shift if encrypt else -shift\n",
    "            ascii_offset = ord('A') if char.isupper() else ord('a')\n",
    "            new_char = chr(((ord(char) - ascii_offset + shift_amount) % 26) + ascii_offset)\n",
    "            result += new_char\n",
    "        else:\n",
    "            result += char  # Keep spaces and special characters unchanged\n",
    "    return result\n",
    "\n",
    "# Example usage\n",
    "plaintext = \"HELLO WORLD\"\n",
    "shift = 3\n",
    "\n",
    "# Encrypting the text\n",
    "ciphertext = caesar_cipher(plaintext, shift, encrypt=True)\n",
    "print(\"Encrypted:\", ciphertext)\n",
    "\n",
    "# Decrypting the text\n",
    "decrypted_text = caesar_cipher(ciphertext, shift, encrypt=False)\n",
    "print(\"Decrypted:\", decrypted_text)"
   ]
  },
  {
   "cell_type": "markdown",
   "metadata": {},
   "source": [
    "\n",
    "### **Inference**  \n",
    "- The **Caesar Cipher** is a basic form of encryption where each letter in the plaintext is replaced by a letter a fixed number of positions down the alphabet.  \n",
    "- It is **not secure** for modern cryptographic applications since it can be broken easily using brute-force attacks or frequency analysis.  \n",
    "- It serves as a foundation for understanding more advanced encryption techniques."
   ]
  },
  {
   "cell_type": "markdown",
   "metadata": {},
   "source": [
    "# LAB 2: Playfair Cipher\n"
   ]
  },
  {
   "cell_type": "markdown",
   "metadata": {},
   "source": [
    "### **Objective**  \n",
    "- To implement the **Playfair Cipher**, a digraph substitution cipher.  \n",
    "- To understand how **pairs of letters** are encrypted using a **5x5 matrix**.  \n",
    "- To apply basic **string processing and matrix manipulation** in Python.  \n",
    "\n",
    "### **Input**  \n",
    "- A **plaintext message** (e.g., `\"HELLO WORLD\"`)  \n",
    "- A **key** (e.g., `\"SECRET\"`)  \n",
    "\n",
    "### **Output**  \n",
    "- **Encrypted ciphertext** (e.g., `\"GCNVQ YQTNF\"`)  \n",
    "- **Decrypted plaintext** (e.g., `\"HELLO WORLD\"`)  \n",
    "\n",
    "### **Explanation**\n",
    "1. **Matrix Generation**  \n",
    "   - Removes duplicate letters in the **key**.  \n",
    "   - Replaces **J with I** and fills in the **5×5 matrix**.  \n",
    "\n",
    "2. **Text Preparation**  \n",
    "   - Converts **plaintext** to **pairs of letters**.  \n",
    "   - Adds **'X'** between duplicate letters and at the end if needed.  \n",
    "\n",
    "3. **Encryption & Decryption Rules**  \n",
    "   - **Same row** → Shift **right** (encrypt) / **left** (decrypt).  \n",
    "   - **Same column** → Shift **down** (encrypt) / **up** (decrypt).  \n",
    "   - **Rectangle rule** → Swap column positions.  \n",
    "\n",
    "---"
   ]
  },
  {
   "cell_type": "code",
   "execution_count": 2,
   "metadata": {},
   "outputs": [
    {
     "name": "stdout",
     "output_type": "stream",
     "text": [
      "\n",
      "Playfair Matrix:\n",
      "S E C R T\n",
      "A B D F G\n",
      "H I K L M\n",
      "N O P Q U\n",
      "V W X Y Z\n",
      "\n",
      "Encrypted: ISKYIQEWFQKC\n",
      "Decrypted: HELXLOWORLDX\n"
     ]
    }
   ],
   "source": [
    "import itertools\n",
    "\n",
    "def prepare_text(text):\n",
    "    text = text.upper().replace(\"J\", \"I\").replace(\" \", \"\")  # Replace J with I\n",
    "    prepared_text = \"\"\n",
    "    i = 0\n",
    "    while i < len(text):\n",
    "        if i == len(text) - 1:  # If single letter remains, add 'X'\n",
    "            prepared_text += text[i] + \"X\"\n",
    "            break\n",
    "        if text[i] == text[i + 1]:  # If duplicate letters, insert 'X'\n",
    "            prepared_text += text[i] + \"X\"\n",
    "            i += 1\n",
    "        else:\n",
    "            prepared_text += text[i] + text[i + 1]\n",
    "            i += 2\n",
    "    return prepared_text\n",
    "\n",
    "def generate_playfair_matrix(key):\n",
    "    key = \"\".join(dict.fromkeys(key.upper().replace(\"J\", \"I\")))  # Remove duplicates\n",
    "    alphabet = \"ABCDEFGHIKLMNOPQRSTUVWXYZ\"\n",
    "    matrix = list(key + \"\".join([ch for ch in alphabet if ch not in key]))\n",
    "    matrix_2d = [matrix[i * 5:(i + 1) * 5] for i in range(5)]\n",
    "    \n",
    "    print(\"\\nPlayfair Matrix:\")\n",
    "    for row in matrix_2d:\n",
    "        print(\" \".join(row))  # Print the matrix in a 5x5 format\n",
    "    \n",
    "    return matrix_2d\n",
    "\n",
    "def find_position(matrix, letter):\n",
    "    for row, col in itertools.product(range(5), repeat=2):\n",
    "        if matrix[row][col] == letter:\n",
    "            return row, col\n",
    "    return None\n",
    "\n",
    "def playfair_cipher(text, matrix, encrypt=True):\n",
    "    processed_text = prepare_text(text)\n",
    "    result = \"\"\n",
    "\n",
    "    for i in range(0, len(processed_text), 2):\n",
    "        a, b = processed_text[i], processed_text[i + 1]\n",
    "        row_a, col_a = find_position(matrix, a)\n",
    "        row_b, col_b = find_position(matrix, b)\n",
    "\n",
    "        if row_a == row_b:  # Same row\n",
    "            col_a = (col_a + 1) % 5 if encrypt else (col_a - 1) % 5\n",
    "            col_b = (col_b + 1) % 5 if encrypt else (col_b - 1) % 5\n",
    "        elif col_a == col_b:  # Same column\n",
    "            row_a = (row_a + 1) % 5 if encrypt else (row_a - 1) % 5\n",
    "            row_b = (row_b + 1) % 5 if encrypt else (row_b - 1) % 5\n",
    "        else:  # Rectangle swap\n",
    "            col_a, col_b = col_b, col_a\n",
    "\n",
    "        result += matrix[row_a][col_a] + matrix[row_b][col_b]\n",
    "\n",
    "    return result\n",
    "\n",
    "# Example usage\n",
    "key = \"SECRET\"\n",
    "plaintext = \"HELLO WORLD\"\n",
    "\n",
    "matrix = generate_playfair_matrix(key)\n",
    "\n",
    "ciphertext = playfair_cipher(plaintext, matrix, encrypt=True)\n",
    "print(\"\\nEncrypted:\", ciphertext)\n",
    "\n",
    "decrypted_text = playfair_cipher(ciphertext, matrix, encrypt=False)\n",
    "print(\"Decrypted:\", decrypted_text)\n"
   ]
  },
  {
   "cell_type": "markdown",
   "metadata": {},
   "source": [
    "### **Inference**  \n",
    "- The **Playfair Cipher** encrypts **pairs of letters** based on a 5×5 matrix generated from a keyword.  \n",
    "- It replaces **'J' with 'I'** to fit into 25 letters.  \n",
    "- It is more secure than the **Caesar Cipher** but still vulnerable to frequency analysis.  \n"
   ]
  },
  {
   "cell_type": "markdown",
   "metadata": {},
   "source": [
    "# LAB 3: Hill Cipher\n"
   ]
  },
  {
   "cell_type": "markdown",
   "metadata": {},
   "source": [
    "### **Objective**  \n",
    "- To implement the **Hill Cipher**, a polygraphic substitution cipher.  \n",
    "- To understand **matrix multiplication** in encryption and **modular inverse** in decryption.  \n",
    "- To demonstrate the use of **linear algebra** for cryptographic purposes in Python.  \n",
    "\n",
    "---\n",
    "\n",
    "### **Input**  \n",
    "- A **plaintext message** (e.g., `\"HELP\"`)  \n",
    "- A **key matrix** (e.g., `[[6, 24], [1, 13]]`)  \n",
    "\n",
    "### **Output**  \n",
    "- **Encrypted ciphertext** (e.g., `\"ZEBB\"`)  \n",
    "- **Decrypted plaintext** (e.g., `\"HELP\"`)  \n",
    "\n",
    "---\n",
    "\n",
    "### **Explanation**\n",
    "1. **Convert text to numbers** (A = 0, B = 1, ..., Z = 25).  \n",
    "2. **Encryption:**  \n",
    "   - Arrange plaintext in **matrix form** and multiply with the **key matrix**.  \n",
    "   - Take modulo **26** to stay within the alphabet.  \n",
    "3. **Decryption:**  \n",
    "   - Compute the **inverse of the key matrix mod 26**.  \n",
    "   - Multiply with the ciphertext matrix and take modulo **26**.  \n",
    "\n",
    "---\n",
    "\n",
    "### **Example Output**\n",
    "```\n",
    "Key Matrix:\n",
    "[6, 24]\n",
    "[1, 13]\n",
    "\n",
    "Encrypted: ZEBB\n",
    "Decrypted: HELP\n",
    "```"
   ]
  },
  {
   "cell_type": "code",
   "execution_count": 7,
   "metadata": {},
   "outputs": [
    {
     "name": "stdout",
     "output_type": "stream",
     "text": [
      "Key Matrix:\n",
      "[3, 3]\n",
      "[2, 5]\n",
      "\n",
      "Encrypted: HIAT\n",
      "Decrypted: HELP\n"
     ]
    }
   ],
   "source": [
    "import numpy as np\n",
    "import math\n",
    "\n",
    "def text_to_numbers(text):\n",
    "    return [ord(char) - ord('A') for char in text.upper()]\n",
    "\n",
    "def numbers_to_text(numbers):\n",
    "    return \"\".join(chr(num + ord('A')) for num in numbers)\n",
    "\n",
    "def encrypt_hill(plaintext, key_matrix):\n",
    "    n = len(key_matrix)\n",
    "    plaintext = plaintext.upper().replace(\" \", \"\")\n",
    "\n",
    "    # Padding if needed\n",
    "    while len(plaintext) % n != 0:\n",
    "        plaintext += \"X\"\n",
    "\n",
    "    plaintext_numbers = text_to_numbers(plaintext)\n",
    "    plaintext_matrix = np.array(plaintext_numbers).reshape(-1, n).T\n",
    "\n",
    "    key_matrix = np.array(key_matrix)\n",
    "\n",
    "    # Encryption: C = (K * P) % 26\n",
    "    ciphertext_matrix = (np.dot(key_matrix, plaintext_matrix) % 26).T\n",
    "    ciphertext_numbers = ciphertext_matrix.flatten()\n",
    "    \n",
    "    return numbers_to_text(ciphertext_numbers)\n",
    "\n",
    "def mod_inverse_matrix(matrix, mod):\n",
    "    det = int(round(np.linalg.det(matrix)))  # Compute determinant\n",
    "    det = det % mod  # Ensure within mod range\n",
    "\n",
    "    # Check if determinant is invertible\n",
    "    if math.gcd(det, mod) != 1:\n",
    "        raise ValueError(f\"Determinant {det} is not invertible mod {mod}. Choose a different key matrix.\")\n",
    "\n",
    "    det_inv = pow(det, -1, mod)  # Modular inverse of determinant\n",
    "\n",
    "    adjugate = np.round(det * np.linalg.inv(matrix)).astype(int) % mod\n",
    "    return (det_inv * adjugate) % mod\n",
    "\n",
    "def decrypt_hill(ciphertext, key_matrix):\n",
    "    key_matrix = np.array(key_matrix)\n",
    "    inverse_key_matrix = mod_inverse_matrix(key_matrix, 26)\n",
    "\n",
    "    n = len(key_matrix)\n",
    "    ciphertext_numbers = text_to_numbers(ciphertext)\n",
    "    ciphertext_matrix = np.array(ciphertext_numbers).reshape(-1, n).T\n",
    "\n",
    "    # Decryption: P = (K_inv * C) % 26\n",
    "    plaintext_matrix = (np.dot(inverse_key_matrix, ciphertext_matrix) % 26).T\n",
    "    plaintext_numbers = plaintext_matrix.flatten()\n",
    "    \n",
    "    return numbers_to_text(plaintext_numbers)\n",
    "\n",
    "# Valid Key Matrix\n",
    "key_matrix = [[3, 3], [2, 5]]  # Valid because det = 9, gcd(9,26) = 1\n",
    "plaintext = \"HELP\"\n",
    "\n",
    "print(\"Key Matrix:\")\n",
    "for row in key_matrix:\n",
    "    print(row)\n",
    "\n",
    "ciphertext = encrypt_hill(plaintext, key_matrix)\n",
    "print(\"\\nEncrypted:\", ciphertext)\n",
    "\n",
    "decrypted_text = decrypt_hill(ciphertext, key_matrix)\n",
    "print(\"Decrypted:\", decrypted_text)\n"
   ]
  },
  {
   "cell_type": "markdown",
   "metadata": {},
   "source": [
    "### **Inference**  \n",
    "- The **Hill Cipher** encrypts text using **matrix multiplication** over **mod 26**.  \n",
    "- A valid key matrix must have an **inverse modulo 26** for decryption.  \n",
    "- It provides stronger encryption than **Caesar** and **Playfair Ciphers**.  \n",
    "\n",
    "---"
   ]
  },
  {
   "cell_type": "markdown",
   "metadata": {},
   "source": [
    "# LAB 4: Vigenère Cipher \n"
   ]
  },
  {
   "cell_type": "markdown",
   "metadata": {},
   "source": [
    "### **Objective**  \n",
    "- To implement the **Vigenère Cipher**, a polyalphabetic substitution cipher.  \n",
    "- To understand how **key repetition** improves security over simple substitution ciphers like **Caesar Cipher**.  \n",
    "\n",
    "---\n",
    "\n",
    "### **Input**  \n",
    "- **Plaintext**: `\"HELLO\"`  \n",
    "- **Key**: `\"KEY\"`  \n",
    "\n",
    "### **Output**  \n",
    "- **Encrypted Ciphertext**: `\"RIJVS\"`  \n",
    "- **Decrypted Plaintext**: `\"HELLO\"`  \n",
    "\n",
    "---\n",
    "\n",
    "### **Example Output**\n",
    "```\n",
    "Encrypted: RIJVS\n",
    "Decrypted: HELLO\n",
    "```"
   ]
  },
  {
   "cell_type": "code",
   "execution_count": 10,
   "metadata": {},
   "outputs": [
    {
     "name": "stdout",
     "output_type": "stream",
     "text": [
      "Encrypted: DLGCXGCXFOPJY\n",
      "Decrypted: THISTISTHELLO\n"
     ]
    }
   ],
   "source": [
    "def vigenere_encrypt(plaintext, key):\n",
    "    plaintext = plaintext.upper()\n",
    "    key = key.upper()\n",
    "    ciphertext = \"\"\n",
    "\n",
    "    for i in range(len(plaintext)):\n",
    "        shift = ord(key[i % len(key)]) - ord('A')\n",
    "        new_char = chr((ord(plaintext[i]) - ord('A') + shift) % 26 + ord('A'))\n",
    "        ciphertext += new_char\n",
    "\n",
    "    return ciphertext\n",
    "\n",
    "def vigenere_decrypt(ciphertext, key):\n",
    "    ciphertext = ciphertext.upper()\n",
    "    key = key.upper()\n",
    "    plaintext = \"\"\n",
    "\n",
    "    for i in range(len(ciphertext)):\n",
    "        shift = ord(key[i % len(key)]) - ord('A')\n",
    "        new_char = chr((ord(ciphertext[i]) - ord('A') - shift) % 26 + ord('A'))\n",
    "        plaintext += new_char\n",
    "\n",
    "    return plaintext\n",
    "\n",
    "# Example Usage\n",
    "plaintext = \"THIS IS HELLO\"\n",
    "key = \"KEY\"\n",
    "\n",
    "ciphertext = vigenere_encrypt(plaintext, key)\n",
    "print(\"Encrypted:\", ciphertext)\n",
    "\n",
    "decrypted_text = vigenere_decrypt(ciphertext, key)\n",
    "print(\"Decrypted:\", decrypted_text)"
   ]
  },
  {
   "cell_type": "markdown",
   "metadata": {},
   "source": [
    "### **Inference**  \n",
    "- The Vigenère Cipher **shifts each letter** by an amount determined by a repeating **keyword**.  \n",
    "- It is **stronger than the Caesar Cipher** because it uses multiple shift values instead of one.  \n",
    "- **Breaking** it requires **frequency analysis** or **Kasiski examination**.  "
   ]
  },
  {
   "cell_type": "markdown",
   "metadata": {},
   "source": [
    "---\n",
    "---"
   ]
  },
  {
   "cell_type": "markdown",
   "metadata": {},
   "source": [
    "# LAB 5: Vernam Cipher (One-Time Pad)\n"
   ]
  },
  {
   "cell_type": "markdown",
   "metadata": {},
   "source": [
    "### **Objective**  \n",
    "- To implement the **Vernam Cipher**, also known as the **One-Time Pad (OTP)**.  \n",
    "- To demonstrate that when used with a truly random key, the Vernam Cipher is **unbreakable**.  \n",
    "\n",
    "---\n",
    "\n",
    "### **Input**  \n",
    "- **Plaintext**: `\"HELLO\"`  \n",
    "- **Key**: `\"XMCKL\"` (same length as plaintext)  \n",
    "\n",
    "### **Output**  \n",
    "- **Encrypted Ciphertext**: `\"EQNVZ\"`  \n",
    "- **Decrypted Plaintext**: `\"HELLO\"`  \n",
    "\n",
    "\n",
    "---\n",
    "\n",
    "### **Explanation**\n",
    "1. The key is **randomly generated** and must be **the same length as the plaintext**.\n",
    "2. Each character is **XORed** with the corresponding character in the key.\n",
    "3. The **same XOR operation** is used for **decryption** since:\n",
    "   \\[\n",
    "   (P \\oplus K) \\oplus K = P\n",
    "   \\]\n",
    "\n",
    "---\n"
   ]
  },
  {
   "cell_type": "code",
   "execution_count": 11,
   "metadata": {},
   "outputs": [
    {
     "name": "stdout",
     "output_type": "stream",
     "text": [
      "Generated Key: QHLEK\n",
      "Encrypted: XDAPE\n",
      "Decrypted: HELLO\n"
     ]
    }
   ],
   "source": [
    "import random\n",
    "import string\n",
    "\n",
    "def generate_random_key(length):\n",
    "    return ''.join(random.choice(string.ascii_uppercase) for _ in range(length))\n",
    "\n",
    "def vernam_encrypt(plaintext, key):\n",
    "    plaintext = plaintext.upper()\n",
    "    key = key.upper()\n",
    "    ciphertext = \"\"\n",
    "\n",
    "    for i in range(len(plaintext)):\n",
    "        encrypted_char = chr(((ord(plaintext[i]) - ord('A')) ^ (ord(key[i]) - ord('A'))) + ord('A'))\n",
    "        ciphertext += encrypted_char\n",
    "\n",
    "    return ciphertext\n",
    "\n",
    "def vernam_decrypt(ciphertext, key):\n",
    "    ciphertext = ciphertext.upper()\n",
    "    key = key.upper()\n",
    "    plaintext = \"\"\n",
    "\n",
    "    for i in range(len(ciphertext)):\n",
    "        decrypted_char = chr(((ord(ciphertext[i]) - ord('A')) ^ (ord(key[i]) - ord('A'))) + ord('A'))\n",
    "        plaintext += decrypted_char\n",
    "\n",
    "    return plaintext\n",
    "\n",
    "# Example Usage\n",
    "plaintext = \"HELLO\"\n",
    "key = generate_random_key(len(plaintext))  # Generate a random key of same length\n",
    "\n",
    "print(\"Generated Key:\", key)\n",
    "\n",
    "ciphertext = vernam_encrypt(plaintext, key)\n",
    "print(\"Encrypted:\", ciphertext)\n",
    "\n",
    "decrypted_text = vernam_decrypt(ciphertext, key)\n",
    "print(\"Decrypted:\", decrypted_text)\n"
   ]
  },
  {
   "cell_type": "markdown",
   "metadata": {},
   "source": [
    "### **Inference** \n",
    "- The Vernam Cipher is a symmetric-key cipher where each character is XORed with a random key of the same length.  \n",
    "- If the key is truly random, used only once, and kept secret, the cipher is theoretically unbreakable.  \n",
    "- This is the only known encryption method with perfect secrecy, as proven by Claude Shannon.  \n"
   ]
  },
  {
   "cell_type": "markdown",
   "metadata": {},
   "source": [
    "## LAB 6: Data Encryption Standard (DES)\n"
   ]
  },
  {
   "cell_type": "markdown",
   "metadata": {},
   "source": [
    "### **Objective**  \n",
    "- To implement **DES (Data Encryption Standard)** for encrypting and decrypting text using the **PyCryptodome** library.  \n",
    "- To understand how block cipher encryption works using **Feistel network** principles.  \n",
    "\n",
    "---\n",
    "\n",
    "### **Input**  \n",
    "- **Plaintext**: `\"HELLOWOR\"` (8 bytes required for DES)  \n",
    "- **Key**: `\"8CHARKEY\"` (8-byte key required for DES)  \n",
    "\n",
    "### **Output**  \n",
    "- **Encrypted Ciphertext**: Hexadecimal representation of encrypted data  \n",
    "- **Decrypted Plaintext**: `\"HELLOWOR\"`  \n",
    "\n",
    "---\n",
    "\n",
    "### **Explanation**\n",
    "1. **Padding** ensures the plaintext is a multiple of **8 bytes**.\n",
    "2. **ECB (Electronic Codebook) mode** is used for encryption.\n",
    "3. The encrypted output is **converted to hexadecimal** for readability.\n",
    "4. Decryption reverses the process, restoring the original plaintext.\n"
   ]
  },
  {
   "cell_type": "code",
   "execution_count": 18,
   "metadata": {},
   "outputs": [
    {
     "name": "stdout",
     "output_type": "stream",
     "text": [
      "Encrypted: ec6d9932dbaa2942\n",
      "Decrypted: HELLOWOR\n"
     ]
    }
   ],
   "source": [
    "from Crypto.Cipher import DES\n",
    "import binascii\n",
    "\n",
    "def pad(text):\n",
    "    \"\"\"Ensures text is 8 bytes long by padding with spaces.\"\"\"\n",
    "    while len(text) % 8 != 0:\n",
    "        text += ' '\n",
    "    return text\n",
    "\n",
    "def des_encrypt(plaintext, key):\n",
    "    cipher = DES.new(key.encode(), DES.MODE_ECB)  # Using Electronic Codebook (ECB) mode\n",
    "    plaintext = pad(plaintext)  # Ensure 8-byte padding\n",
    "    encrypted_text = cipher.encrypt(plaintext.encode())\n",
    "    return binascii.hexlify(encrypted_text).decode()  # Convert to hexadecimal\n",
    "\n",
    "def des_decrypt(ciphertext, key):\n",
    "    cipher = DES.new(key.encode(), DES.MODE_ECB)\n",
    "    decrypted_text = cipher.decrypt(binascii.unhexlify(ciphertext)).decode().rstrip()  # Remove extra spaces\n",
    "    return decrypted_text\n",
    "\n",
    "# Example Usage\n",
    "plaintext = \"HELLOWOR\"  # Must be 8 bytes (or padded)\n",
    "key = \"8CHARKEY\"  # DES requires an 8-byte key\n",
    "\n",
    "ciphertext = des_encrypt(plaintext, key)\n",
    "print(\"Encrypted:\", ciphertext)\n",
    "\n",
    "decrypted_text = des_decrypt(ciphertext, key)\n",
    "print(\"Decrypted:\", decrypted_text)\n"
   ]
  },
  {
   "cell_type": "markdown",
   "metadata": {},
   "source": [
    "### **Inference**  \n",
    "- DES is a **symmetric-key block cipher** that operates on **64-bit blocks** with a **56-bit key** (8 bytes with parity).  \n",
    "- It performs **16 rounds of Feistel transformations**, making it more secure than simple substitution ciphers.  \n",
    "- DES is **now considered weak** due to **brute-force vulnerabilities**, but it laid the foundation for modern encryption standards like **AES**.  \n",
    "\n",
    "---"
   ]
  },
  {
   "cell_type": "markdown",
   "metadata": {},
   "source": [
    "## LAB 7: Advanced Encryption Standard (AES)\n"
   ]
  },
  {
   "cell_type": "markdown",
   "metadata": {},
   "source": [
    "\n",
    "### **Objective**  \n",
    "- To implement **AES (Advanced Encryption Standard)** for encrypting and decrypting text using the **PyCryptodome** library.  \n",
    "- To understand how AES improves upon DES by using **128-bit block size**, **stronger key lengths (128, 192, 256 bits)**, and **substitution-permutation networks** instead of a Feistel structure.  \n",
    "\n",
    "---\n",
    "\n",
    "### **Input**  \n",
    "- **Plaintext**: `\"HELLOWORLD12345\"` (AES works with 16-byte blocks)  \n",
    "- **Key**: `\"16BYTEKEY1234567\"` (128-bit key)  \n",
    "\n",
    "### **Output**  \n",
    "- **Encrypted Ciphertext**: Hexadecimal representation of encrypted data  \n",
    "- **Decrypted Plaintext**: `\"HELLOWORLD12345\"`  \n",
    "---\n",
    "\n",
    "### **Explanation**\n",
    "1. **Padding** ensures that the plaintext is a multiple of **16 bytes**.\n",
    "2. **ECB (Electronic Codebook) mode** is used for encryption (though **CBC mode** is preferred for security).\n",
    "3. The encrypted output is **converted to hexadecimal** for readability.\n",
    "4. Decryption reverses the encryption process, restoring the original plaintext.\n",
    "\n",
    "---\n"
   ]
  },
  {
   "cell_type": "code",
   "execution_count": 19,
   "metadata": {},
   "outputs": [
    {
     "name": "stdout",
     "output_type": "stream",
     "text": [
      "Encrypted: fe787dfad0a74d37a6d579779d45480c\n",
      "Decrypted: HELLOWORLD12345\n"
     ]
    }
   ],
   "source": [
    "from Crypto.Cipher import AES\n",
    "import binascii\n",
    "\n",
    "def pad(text):\n",
    "    \"\"\"Ensures text is a multiple of 16 bytes by adding padding.\"\"\"\n",
    "    while len(text) % 16 != 0:\n",
    "        text += ' '\n",
    "    return text\n",
    "\n",
    "def aes_encrypt(plaintext, key):\n",
    "    cipher = AES.new(key.encode(), AES.MODE_ECB)  # Using ECB mode (not recommended for real security)\n",
    "    plaintext = pad(plaintext)  # Ensure 16-byte padding\n",
    "    encrypted_text = cipher.encrypt(plaintext.encode())\n",
    "    return binascii.hexlify(encrypted_text).decode()  # Convert to hexadecimal\n",
    "\n",
    "def aes_decrypt(ciphertext, key):\n",
    "    cipher = AES.new(key.encode(), AES.MODE_ECB)\n",
    "    decrypted_text = cipher.decrypt(binascii.unhexlify(ciphertext)).decode().rstrip()  # Remove extra spaces\n",
    "    return decrypted_text\n",
    "\n",
    "# Example Usage\n",
    "plaintext = \"HELLOWORLD12345\"  # 16 bytes\n",
    "key = \"16BYTEKEY1234567\"  # 16-byte (128-bit) key\n",
    "\n",
    "ciphertext = aes_encrypt(plaintext, key)\n",
    "print(\"Encrypted:\", ciphertext)\n",
    "\n",
    "decrypted_text = aes_decrypt(ciphertext, key)\n",
    "print(\"Decrypted:\", decrypted_text)\n"
   ]
  },
  {
   "cell_type": "markdown",
   "metadata": {},
   "source": [
    "### **Inference**  \n",
    "- AES is a **symmetric block cipher** that works on **128-bit blocks** with **key sizes of 128, 192, or 256 bits**.  \n",
    "- It is based on **Substitution-Permutation Networks (SPN)**, making it much **stronger and faster** than DES.  \n",
    "- AES is widely used in **modern encryption standards**, including **SSL/TLS, disk encryption, and secure communications**.  "
   ]
  },
  {
   "cell_type": "markdown",
   "metadata": {},
   "source": [
    "## LAB 8: RSA (Rivest-Shamir-Adleman) "
   ]
  },
  {
   "cell_type": "markdown",
   "metadata": {},
   "source": [
    "### **Objective**  \n",
    "- To implement the **RSA algorithm** for encryption and decryption using the **PyCryptodome** library.  \n",
    "- To understand how **asymmetric encryption** works using **public and private keys**.  \n",
    "\n",
    "---\n",
    "\n",
    "### **Input**  \n",
    "- **Plaintext**: `\"HELLO\"`  \n",
    "- **Key Size**: `1024-bit`  \n",
    "\n",
    "### **Output**  \n",
    "- **Public Key**: `(e, n)` (Used for encryption)  \n",
    "- **Private Key**: `(d, n)` (Used for decryption)  \n",
    "- **Encrypted Ciphertext**: Hexadecimal representation of the encrypted message  \n",
    "- **Decrypted Plaintext**: `\"HELLO\"`  \n",
    "\n",
    "---\n",
    "\n",
    "### **Explanation**\n",
    "1. **Key Generation**:  \n",
    "   - A **1024-bit RSA key pair** is generated.  \n",
    "   - The **public key** is used for encryption.  \n",
    "   - The **private key** is used for decryption.  \n",
    "   \n",
    "2. **Encryption**:  \n",
    "   - The plaintext is encrypted using the **public key**.  \n",
    "   - The ciphertext is converted to **hexadecimal** for readability.  \n",
    "   \n",
    "3. **Decryption**:  \n",
    "   - The ciphertext is decrypted using the **private key**, restoring the original message.  \n",
    "\n",
    "---"
   ]
  },
  {
   "cell_type": "code",
   "execution_count": 20,
   "metadata": {},
   "outputs": [
    {
     "name": "stdout",
     "output_type": "stream",
     "text": [
      "Encrypted: 387f273b1789a5ee6a02f7ca9765b9064a3d078bddb1d17a0f06599fd1bea3fcf3fb36e34fab15b9cc8a3db34c0137128a1858679c21d66bebad4d425ce28b4d0ecc09fd70df9be670075f85a5fc6f500e9ba87c047436ade2ecd939063ea2cba4097b1efc14de321f5999c0671309344ebf8e970e6104f97a2a51bc1b5ebd25\n",
      "Decrypted: HELLO\n"
     ]
    }
   ],
   "source": [
    "from Crypto.PublicKey import RSA\n",
    "from Crypto.Cipher import PKCS1_OAEP\n",
    "import binascii\n",
    "\n",
    "# Generate RSA Key Pair\n",
    "key = RSA.generate(1024)  # 1024-bit RSA key\n",
    "public_key = key.publickey()  # Extract public key\n",
    "private_key = key  # Private key\n",
    "\n",
    "# Encrypt function\n",
    "def rsa_encrypt(plaintext, public_key):\n",
    "    cipher = PKCS1_OAEP.new(public_key)\n",
    "    encrypted_text = cipher.encrypt(plaintext.encode())\n",
    "    return binascii.hexlify(encrypted_text).decode()  # Convert to hexadecimal\n",
    "\n",
    "# Decrypt function\n",
    "def rsa_decrypt(ciphertext, private_key):\n",
    "    cipher = PKCS1_OAEP.new(private_key)\n",
    "    decrypted_text = cipher.decrypt(binascii.unhexlify(ciphertext)).decode()\n",
    "    return decrypted_text\n",
    "\n",
    "# Example Usage\n",
    "plaintext = \"HELLO\"\n",
    "\n",
    "# Encrypt with Public Key\n",
    "ciphertext = rsa_encrypt(plaintext, public_key)\n",
    "print(\"Encrypted:\", ciphertext)\n",
    "\n",
    "# Decrypt with Private Key\n",
    "decrypted_text = rsa_decrypt(ciphertext, private_key)\n",
    "print(\"Decrypted:\", decrypted_text)"
   ]
  },
  {
   "cell_type": "markdown",
   "metadata": {},
   "source": [
    "### **Inference**  \n",
    "- **RSA** is an **asymmetric encryption algorithm** that uses a **public key for encryption** and a **private key for decryption**.  \n",
    "- It is based on the difficulty of **factoring large prime numbers**.  \n",
    "- RSA is widely used in **secure communications (SSL/TLS), digital signatures, and cryptographic applications**.  \n",
    "\n",
    "---"
   ]
  },
  {
   "cell_type": "markdown",
   "metadata": {},
   "source": [
    "# LAB 9: Diffie-Hellman"
   ]
  },
  {
   "cell_type": "markdown",
   "metadata": {},
   "source": [
    "## **LAB 9: Diffie-Hellman Key Exchange in Python**  \n",
    "\n",
    "### **Objective**  \n",
    "- To implement the **Diffie-Hellman Key Exchange Algorithm** in Python.  \n",
    "- To understand how two parties can **securely generate a shared secret key** over an insecure channel without directly transmitting the key.  \n",
    "\n",
    "---\n",
    "\n",
    "### **Input**  \n",
    "- **Public Prime (p)**: A large prime number.  \n",
    "- **Primitive Root (g)**: A generator (primitive root modulo p).  \n",
    "- **Private Keys (a, b)**: Secret numbers chosen by two users.  \n",
    "\n",
    "### **Output**  \n",
    "- **Public Keys (A, B)**: Computed using the formula:  \n",
    "  \\[\n",
    "  A = g^a \\mod p\n",
    "  \\]\n",
    "  \\[\n",
    "  B = g^b \\mod p\n",
    "  \\]\n",
    "- **Shared Secret Key**:  \n",
    "  \\[\n",
    "  S_A = B^a \\mod p\n",
    "  \\]\n",
    "  \\[\n",
    "  S_B = A^b \\mod p\n",
    "  \\]\n",
    "  Since \\( S_A = S_B \\), both parties will have the same shared secret.  \n",
    "\n",
    "---\n",
    "\n",
    "### **Explanation**\n",
    "1. **Public Parameters (p, g)**:  \n",
    "   - Chosen by both parties.  \n",
    "   - **p** is a large prime number, and **g** is a primitive root modulo **p**.  \n",
    "\n",
    "2. **Private Keys (a, b)**:  \n",
    "   - Secret values chosen by Alice and Bob.  \n",
    "\n",
    "3. **Public Keys (A, B)**:  \n",
    "   - Computed using **modular exponentiation**:  \n",
    "     \\[\n",
    "     A = g^a \\mod p\n",
    "     \\]\n",
    "     \\[\n",
    "     B = g^b \\mod p\n",
    "     \\]\n",
    "\n",
    "4. **Shared Secret Computation**:  \n",
    "   - Both parties derive the same shared secret using their private keys:  \n",
    "     \\[\n",
    "     S_A = B^a \\mod p\n",
    "     \\]\n",
    "     \\[\n",
    "     S_B = A^b \\mod p\n",
    "     \\]\n",
    "   - Since \\( S_A = S_B \\), they now have a common key.  \n",
    "\n",
    "---"
   ]
  },
  {
   "cell_type": "code",
   "execution_count": null,
   "metadata": {},
   "outputs": [
    {
     "name": "stdout",
     "output_type": "stream",
     "text": [
      "Encrypted: 0c481b8386a5846824560058fb959e8843025dd133582999dd955ffc8835d804b9694ace7c2b3de6540666f2fa82af523acd8e80a3e689e7dac15925c52d5d156b58cd774c84ff8d37646be786df40985c3bac828913ff847f75e67bf2b98de3940b6cb5dc9f7151fe4bf978f127ceec14a38d27566fc1f13c0775ec4e95e947\n",
      "Decrypted: HELLO\n"
     ]
    }
   ],
   "source": [
    "import random\n",
    "\n",
    "# Step 1: Public parameters (both parties agree on p and g)\n",
    "p = 23  # Prime number\n",
    "g = 5   # Primitive root mod p\n",
    "\n",
    "# Step 2: Private keys (chosen secretly by Alice and Bob)\n",
    "a = random.randint(1, p-1)  # Alice's private key\n",
    "b = random.randint(1, p-1)  # Bob's private key\n",
    "\n",
    "# Step 3: Compute public keys\n",
    "A = pow(g, a, p)  # Alice computes A = g^a mod p\n",
    "B = pow(g, b, p)  # Bob computes B = g^b mod p\n",
    "\n",
    "# Step 4: Compute shared secret key\n",
    "shared_secret_A = pow(B, a, p)  # Alice computes S = B^a mod p\n",
    "shared_secret_B = pow(A, b, p)  # Bob computes S = A^b mod p\n",
    "\n",
    "# Step 5: Verify both shared keys are equal\n",
    "assert shared_secret_A == shared_secret_B\n",
    "\n",
    "# Print values\n",
    "print(\"Public Prime (p):\", p)\n",
    "print(\"Primitive Root (g):\", g)\n",
    "print(\"Alice's Private Key (a):\", a)\n",
    "print(\"Bob's Private Key (b):\", b)\n",
    "print(\"Alice's Public Key (A):\", A)\n",
    "print(\"Bob's Public Key (B):\", B)\n",
    "print(\"Shared Secret Key:\", shared_secret_A)\n"
   ]
  },
  {
   "cell_type": "markdown",
   "metadata": {},
   "source": [
    "### **Inference**  \n",
    "- The **Diffie-Hellman Key Exchange** allows two parties to securely establish a shared secret key without directly sharing it.  \n",
    "- The security of Diffie-Hellman is based on the **difficulty of computing discrete logarithms**.  \n",
    "- Once the shared secret is generated, it can be used for **symmetric encryption (e.g., AES)**.  \n"
   ]
  }
 ],
 "metadata": {
  "kernelspec": {
   "display_name": ".venv",
   "language": "python",
   "name": "python3"
  },
  "language_info": {
   "codemirror_mode": {
    "name": "ipython",
    "version": 3
   },
   "file_extension": ".py",
   "mimetype": "text/x-python",
   "name": "python",
   "nbconvert_exporter": "python",
   "pygments_lexer": "ipython3",
   "version": "3.12.3"
  }
 },
 "nbformat": 4,
 "nbformat_minor": 2
}

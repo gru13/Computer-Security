{
 "cells": [
  {
   "cell_type": "code",
   "execution_count": 3,
   "metadata": {},
   "outputs": [
    {
     "name": "stdout",
     "output_type": "stream",
     "text": [
      "Encrypted: mllaglgjuzy\n",
      "Decrypted: sfugaumddfs\n"
     ]
    }
   ],
   "source": [
    "\n",
    "Key  =  \"gru\"\n",
    "word = \"guruprasath\"\n",
    "\n",
    "Key = Key.upper()\n",
    "key_length = len(Key)\n",
    "key_index = 0\n",
    "encrypted_text = []\n",
    "\n",
    "for char in word:\n",
    "    if char.isalpha():\n",
    "        shift = ord(Key[key_index % key_length]) - ord('A')\n",
    "        if char.isupper():\n",
    "            encrypted_char = chr((ord(char) - ord('A') + shift) % 26 + ord('A'))\n",
    "        else:\n",
    "            encrypted_char = chr((ord(char) - ord('a') + shift) % 26 + ord('a'))\n",
    "        encrypted_text.append(encrypted_char)\n",
    "        key_index += 1\n",
    "    else:\n",
    "        encrypted_text.append(char)\n",
    "\n",
    "encrypted_text = ''.join(encrypted_text)\n",
    "print(f\"Encrypted: {encrypted_text}\")\n",
    "\n",
    "decrypted_text = []\n",
    "\n",
    "for char in encrypted_text:\n",
    "    if char.isalpha():\n",
    "        shift = ord(Key[key_index % key_length]) - ord('A')\n",
    "        if char.isupper():\n",
    "            decrypted_char = chr((ord(char) - ord('A') - shift) % 26 + ord('A'))\n",
    "        else:\n",
    "            decrypted_char = chr((ord(char) - ord('a') - shift) % 26 + ord('a'))\n",
    "        decrypted_text.append(decrypted_char)\n",
    "        key_index += 1\n",
    "    else:\n",
    "        decrypted_text.append(char)\n",
    "\n",
    "decrypted_text = ''.join(decrypted_text)\n",
    "print(f\"Decrypted: {decrypted_text}\")\n"
   ]
  }
 ],
 "metadata": {
  "kernelspec": {
   "display_name": "Python 3",
   "language": "python",
   "name": "python3"
  },
  "language_info": {
   "codemirror_mode": {
    "name": "ipython",
    "version": 3
   },
   "file_extension": ".py",
   "mimetype": "text/x-python",
   "name": "python",
   "nbconvert_exporter": "python",
   "pygments_lexer": "ipython3",
   "version": "3.12.1"
  }
 },
 "nbformat": 4,
 "nbformat_minor": 2
}

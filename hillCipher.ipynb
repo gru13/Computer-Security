{
 "cells": [
  {
   "cell_type": "code",
   "execution_count": null,
   "metadata": {},
   "outputs": [
    {
     "name": "stdout",
     "output_type": "stream",
     "text": [
      "[[14, 17, 0, 19]]\n"
     ]
    }
   ],
   "source": [
    "from math import sqrt\n",
    "import numpy as np\n",
    "\n",
    "Key  =  \"greyalphahaterlp\"\n",
    "word = \"guru\"\n",
    "\n",
    "Key = Key.lower()\n",
    "word = word.lower()\n",
    "\n",
    "key_s = int(sqrt(len(Key)))\n",
    "\n",
    "while key_s * key_s < len(Key):\n",
    "    Key += 'a'  \n",
    "while len(word) % key_s != 0:\n",
    "    word += 'a'\n",
    "\n",
    "KM = np.array([[ord(Key[a*key_s + b]) - ord(\"a\") for b in range(key_s)] for a in range(key_s)])\n",
    "\n",
    "words = np.array([[ord(b) - ord('a') for b in word[a:a+key_s]] for a in range(0, len(word), key_s)])\n",
    "\n",
    "en = []\n",
    "for a in words:\n",
    "    en.append(np.mod((KM @ a), 26).flatten().tolist())\n",
    "print(en)\n",
    "\n"
   ]
  }
 ],
 "metadata": {
  "kernelspec": {
   "display_name": "Python 3",
   "language": "python",
   "name": "python3"
  },
  "language_info": {
   "codemirror_mode": {
    "name": "ipython",
    "version": 3
   },
   "file_extension": ".py",
   "mimetype": "text/x-python",
   "name": "python",
   "nbconvert_exporter": "python",
   "pygments_lexer": "ipython3",
   "version": "3.12.1"
  }
 },
 "nbformat": 4,
 "nbformat_minor": 2
}

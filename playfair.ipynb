{
 "cells": [
  {
   "cell_type": "code",
   "execution_count": 2,
   "metadata": {},
   "outputs": [
    {
     "name": "stdout",
     "output_type": "stream",
     "text": [
      "Encrypted: KBSUAV\n"
     ]
    }
   ],
   "source": [
    "import string\n",
    "\n",
    "# Key and message\n",
    "key = \"MONARCY\"\n",
    "message = \"HELLO\"\n",
    "\n",
    "# Prepare key and message\n",
    "key = ''.join(sorted(set(key.upper().replace(\"J\", \"I\")), key=key.index))\n",
    "alphabet = string.ascii_uppercase.replace('J', '')\n",
    "table = key + ''.join([ch for ch in alphabet if ch not in key])\n",
    "table = [table[i:i+5] for i in range(0, len(table), 5)]\n",
    "\n",
    "message = message.upper().replace(\"J\", \"I\")\n",
    "if len(message) % 2 != 0:\n",
    "    message += 'X'\n",
    "message_pairs = [message[i:i+2] for i in range(0, len(message), 2)]\n",
    "for i in range(len(message_pairs)):\n",
    "    if message_pairs[i][0] == message_pairs[i][1]:\n",
    "        message_pairs[i] = message_pairs[i][0] + 'X'\n",
    "\n",
    "# Encryption process\n",
    "encrypted_message = []\n",
    "for a, b in message_pairs:\n",
    "    r1, c1 = next((r, row.index(a)) for r, row in enumerate(table) if a in row)\n",
    "    r2, c2 = next((r, row.index(b)) for r, row in enumerate(table) if b in row)\n",
    "    \n",
    "    if r1 == r2:\n",
    "        encrypted_message.append(table[r1][(c1 + 1) % 5])\n",
    "        encrypted_message.append(table[r2][(c2 + 1) % 5])\n",
    "    elif c1 == c2:\n",
    "        encrypted_message.append(table[(r1 + 1) % 5][c1])\n",
    "        encrypted_message.append(table[(r2 + 1) % 5][c2])\n",
    "    else:\n",
    "        encrypted_message.append(table[r1][c2])\n",
    "        encrypted_message.append(table[r2][c1])\n",
    "\n",
    "# Output the result\n",
    "print(\"Encrypted:\", ''.join(encrypted_message))\n"
   ]
  }
 ],
 "metadata": {
  "kernelspec": {
   "display_name": "Python 3",
   "language": "python",
   "name": "python3"
  },
  "language_info": {
   "codemirror_mode": {
    "name": "ipython",
    "version": 3
   },
   "file_extension": ".py",
   "mimetype": "text/x-python",
   "name": "python",
   "nbconvert_exporter": "python",
   "pygments_lexer": "ipython3",
   "version": "3.12.1"
  }
 },
 "nbformat": 4,
 "nbformat_minor": 2
}
